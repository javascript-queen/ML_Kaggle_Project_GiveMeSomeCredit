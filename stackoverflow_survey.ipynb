{
 "cells": [
  {
   "cell_type": "code",
   "execution_count": 1,
   "metadata": {},
   "outputs": [],
   "source": [
    "# importing libraries\n",
    "import pandas as pd\n",
    "import seaborn as sns\n",
    "import matplotlib.pyplot as plt "
   ]
  },
  {
   "cell_type": "code",
   "execution_count": 2,
   "metadata": {},
   "outputs": [
    {
     "name": "stdout",
     "output_type": "stream",
     "text": [
      "Rows: 89184, Columns: 84\n"
     ]
    },
    {
     "data": {
      "text/plain": [
       "Index(['ResponseId', 'Q120', 'MainBranch', 'Age', 'Employment', 'RemoteWork',\n",
       "       'CodingActivities', 'EdLevel', 'LearnCode', 'LearnCodeOnline',\n",
       "       'LearnCodeCoursesCert', 'YearsCode', 'YearsCodePro', 'DevType',\n",
       "       'OrgSize', 'PurchaseInfluence', 'TechList', 'BuyNewTool', 'Country',\n",
       "       'Currency', 'CompTotal', 'LanguageHaveWorkedWith',\n",
       "       'LanguageWantToWorkWith', 'DatabaseHaveWorkedWith',\n",
       "       'DatabaseWantToWorkWith', 'PlatformHaveWorkedWith',\n",
       "       'PlatformWantToWorkWith', 'WebframeHaveWorkedWith',\n",
       "       'WebframeWantToWorkWith', 'MiscTechHaveWorkedWith',\n",
       "       'MiscTechWantToWorkWith', 'ToolsTechHaveWorkedWith',\n",
       "       'ToolsTechWantToWorkWith', 'NEWCollabToolsHaveWorkedWith',\n",
       "       'NEWCollabToolsWantToWorkWith', 'OpSysPersonal use',\n",
       "       'OpSysProfessional use', 'OfficeStackAsyncHaveWorkedWith',\n",
       "       'OfficeStackAsyncWantToWorkWith', 'OfficeStackSyncHaveWorkedWith',\n",
       "       'OfficeStackSyncWantToWorkWith', 'AISearchHaveWorkedWith',\n",
       "       'AISearchWantToWorkWith', 'AIDevHaveWorkedWith', 'AIDevWantToWorkWith',\n",
       "       'NEWSOSites', 'SOVisitFreq', 'SOAccount', 'SOPartFreq', 'SOComm',\n",
       "       'SOAI', 'AISelect', 'AISent', 'AIAcc', 'AIBen',\n",
       "       'AIToolInterested in Using', 'AIToolCurrently Using',\n",
       "       'AIToolNot interested in Using', 'AINextVery different',\n",
       "       'AINextNeither different nor similar', 'AINextSomewhat similar',\n",
       "       'AINextVery similar', 'AINextSomewhat different', 'TBranch', 'ICorPM',\n",
       "       'WorkExp', 'Knowledge_1', 'Knowledge_2', 'Knowledge_3', 'Knowledge_4',\n",
       "       'Knowledge_5', 'Knowledge_6', 'Knowledge_7', 'Knowledge_8',\n",
       "       'Frequency_1', 'Frequency_2', 'Frequency_3', 'TimeSearching',\n",
       "       'TimeAnswering', 'ProfessionalTech', 'Industry', 'SurveyLength',\n",
       "       'SurveyEase', 'ConvertedCompYearly'],\n",
       "      dtype='object')"
      ]
     },
     "execution_count": 2,
     "metadata": {},
     "output_type": "execute_result"
    }
   ],
   "source": [
    "df = pd.read_csv(\"survey_results_public.csv\")\n",
    "print(f'Rows: {df.shape[0]}, Columns: {df.shape[1]}')\n",
    "df.columns"
   ]
  },
  {
   "cell_type": "code",
   "execution_count": 3,
   "metadata": {},
   "outputs": [
    {
     "data": {
      "text/plain": [
       "(89184, 84)"
      ]
     },
     "execution_count": 3,
     "metadata": {},
     "output_type": "execute_result"
    }
   ],
   "source": [
    "df.shape"
   ]
  },
  {
   "cell_type": "code",
   "execution_count": 4,
   "metadata": {},
   "outputs": [
    {
     "data": {
      "text/html": [
       "<div>\n",
       "<style scoped>\n",
       "    .dataframe tbody tr th:only-of-type {\n",
       "        vertical-align: middle;\n",
       "    }\n",
       "\n",
       "    .dataframe tbody tr th {\n",
       "        vertical-align: top;\n",
       "    }\n",
       "\n",
       "    .dataframe thead th {\n",
       "        text-align: right;\n",
       "    }\n",
       "</style>\n",
       "<table border=\"1\" class=\"dataframe\">\n",
       "  <thead>\n",
       "    <tr style=\"text-align: right;\">\n",
       "      <th></th>\n",
       "      <th>ResponseId</th>\n",
       "      <th>Q120</th>\n",
       "      <th>MainBranch</th>\n",
       "      <th>Age</th>\n",
       "      <th>Employment</th>\n",
       "      <th>RemoteWork</th>\n",
       "      <th>CodingActivities</th>\n",
       "      <th>EdLevel</th>\n",
       "      <th>LearnCode</th>\n",
       "      <th>LearnCodeOnline</th>\n",
       "      <th>...</th>\n",
       "      <th>Frequency_1</th>\n",
       "      <th>Frequency_2</th>\n",
       "      <th>Frequency_3</th>\n",
       "      <th>TimeSearching</th>\n",
       "      <th>TimeAnswering</th>\n",
       "      <th>ProfessionalTech</th>\n",
       "      <th>Industry</th>\n",
       "      <th>SurveyLength</th>\n",
       "      <th>SurveyEase</th>\n",
       "      <th>ConvertedCompYearly</th>\n",
       "    </tr>\n",
       "  </thead>\n",
       "  <tbody>\n",
       "    <tr>\n",
       "      <th>0</th>\n",
       "      <td>1</td>\n",
       "      <td>I agree</td>\n",
       "      <td>None of these</td>\n",
       "      <td>18-24 years old</td>\n",
       "      <td>NaN</td>\n",
       "      <td>NaN</td>\n",
       "      <td>NaN</td>\n",
       "      <td>NaN</td>\n",
       "      <td>NaN</td>\n",
       "      <td>NaN</td>\n",
       "      <td>...</td>\n",
       "      <td>NaN</td>\n",
       "      <td>NaN</td>\n",
       "      <td>NaN</td>\n",
       "      <td>NaN</td>\n",
       "      <td>NaN</td>\n",
       "      <td>NaN</td>\n",
       "      <td>NaN</td>\n",
       "      <td>NaN</td>\n",
       "      <td>NaN</td>\n",
       "      <td>NaN</td>\n",
       "    </tr>\n",
       "    <tr>\n",
       "      <th>1</th>\n",
       "      <td>2</td>\n",
       "      <td>I agree</td>\n",
       "      <td>I am a developer by profession</td>\n",
       "      <td>25-34 years old</td>\n",
       "      <td>Employed, full-time</td>\n",
       "      <td>Remote</td>\n",
       "      <td>Hobby;Contribute to open-source projects;Boots...</td>\n",
       "      <td>Bachelor’s degree (B.A., B.S., B.Eng., etc.)</td>\n",
       "      <td>Books / Physical media;Colleague;Friend or fam...</td>\n",
       "      <td>Formal documentation provided by the owner of ...</td>\n",
       "      <td>...</td>\n",
       "      <td>1-2 times a week</td>\n",
       "      <td>10+ times a week</td>\n",
       "      <td>Never</td>\n",
       "      <td>15-30 minutes a day</td>\n",
       "      <td>15-30 minutes a day</td>\n",
       "      <td>DevOps function;Microservices;Automated testin...</td>\n",
       "      <td>Information Services, IT, Software Development...</td>\n",
       "      <td>Appropriate in length</td>\n",
       "      <td>Easy</td>\n",
       "      <td>285000.0</td>\n",
       "    </tr>\n",
       "    <tr>\n",
       "      <th>2</th>\n",
       "      <td>3</td>\n",
       "      <td>I agree</td>\n",
       "      <td>I am a developer by profession</td>\n",
       "      <td>45-54 years old</td>\n",
       "      <td>Employed, full-time</td>\n",
       "      <td>Hybrid (some remote, some in-person)</td>\n",
       "      <td>Hobby;Professional development or self-paced l...</td>\n",
       "      <td>Bachelor’s degree (B.A., B.S., B.Eng., etc.)</td>\n",
       "      <td>Books / Physical media;Colleague;On the job tr...</td>\n",
       "      <td>Formal documentation provided by the owner of ...</td>\n",
       "      <td>...</td>\n",
       "      <td>6-10 times a week</td>\n",
       "      <td>6-10 times a week</td>\n",
       "      <td>3-5 times a week</td>\n",
       "      <td>30-60 minutes a day</td>\n",
       "      <td>30-60 minutes a day</td>\n",
       "      <td>DevOps function;Microservices;Automated testin...</td>\n",
       "      <td>Information Services, IT, Software Development...</td>\n",
       "      <td>Appropriate in length</td>\n",
       "      <td>Easy</td>\n",
       "      <td>250000.0</td>\n",
       "    </tr>\n",
       "    <tr>\n",
       "      <th>3</th>\n",
       "      <td>4</td>\n",
       "      <td>I agree</td>\n",
       "      <td>I am a developer by profession</td>\n",
       "      <td>25-34 years old</td>\n",
       "      <td>Employed, full-time</td>\n",
       "      <td>Hybrid (some remote, some in-person)</td>\n",
       "      <td>Hobby</td>\n",
       "      <td>Bachelor’s degree (B.A., B.S., B.Eng., etc.)</td>\n",
       "      <td>Colleague;Friend or family member;Other online...</td>\n",
       "      <td>Formal documentation provided by the owner of ...</td>\n",
       "      <td>...</td>\n",
       "      <td>1-2 times a week</td>\n",
       "      <td>10+ times a week</td>\n",
       "      <td>1-2 times a week</td>\n",
       "      <td>15-30 minutes a day</td>\n",
       "      <td>30-60 minutes a day</td>\n",
       "      <td>Automated testing;Continuous integration (CI) ...</td>\n",
       "      <td>NaN</td>\n",
       "      <td>Appropriate in length</td>\n",
       "      <td>Easy</td>\n",
       "      <td>156000.0</td>\n",
       "    </tr>\n",
       "    <tr>\n",
       "      <th>4</th>\n",
       "      <td>5</td>\n",
       "      <td>I agree</td>\n",
       "      <td>I am a developer by profession</td>\n",
       "      <td>25-34 years old</td>\n",
       "      <td>Employed, full-time;Independent contractor, fr...</td>\n",
       "      <td>Remote</td>\n",
       "      <td>Hobby;Contribute to open-source projects;Profe...</td>\n",
       "      <td>Bachelor’s degree (B.A., B.S., B.Eng., etc.)</td>\n",
       "      <td>Books / Physical media;Online Courses or Certi...</td>\n",
       "      <td>Formal documentation provided by the owner of ...</td>\n",
       "      <td>...</td>\n",
       "      <td>1-2 times a week</td>\n",
       "      <td>1-2 times a week</td>\n",
       "      <td>3-5 times a week</td>\n",
       "      <td>60-120 minutes a day</td>\n",
       "      <td>30-60 minutes a day</td>\n",
       "      <td>Microservices;Automated testing;Observability ...</td>\n",
       "      <td>Other</td>\n",
       "      <td>Appropriate in length</td>\n",
       "      <td>Neither easy nor difficult</td>\n",
       "      <td>23456.0</td>\n",
       "    </tr>\n",
       "  </tbody>\n",
       "</table>\n",
       "<p>5 rows × 84 columns</p>\n",
       "</div>"
      ],
      "text/plain": [
       "   ResponseId     Q120                      MainBranch              Age  \\\n",
       "0           1  I agree                   None of these  18-24 years old   \n",
       "1           2  I agree  I am a developer by profession  25-34 years old   \n",
       "2           3  I agree  I am a developer by profession  45-54 years old   \n",
       "3           4  I agree  I am a developer by profession  25-34 years old   \n",
       "4           5  I agree  I am a developer by profession  25-34 years old   \n",
       "\n",
       "                                          Employment  \\\n",
       "0                                                NaN   \n",
       "1                                Employed, full-time   \n",
       "2                                Employed, full-time   \n",
       "3                                Employed, full-time   \n",
       "4  Employed, full-time;Independent contractor, fr...   \n",
       "\n",
       "                             RemoteWork  \\\n",
       "0                                   NaN   \n",
       "1                                Remote   \n",
       "2  Hybrid (some remote, some in-person)   \n",
       "3  Hybrid (some remote, some in-person)   \n",
       "4                                Remote   \n",
       "\n",
       "                                    CodingActivities  \\\n",
       "0                                                NaN   \n",
       "1  Hobby;Contribute to open-source projects;Boots...   \n",
       "2  Hobby;Professional development or self-paced l...   \n",
       "3                                              Hobby   \n",
       "4  Hobby;Contribute to open-source projects;Profe...   \n",
       "\n",
       "                                        EdLevel  \\\n",
       "0                                           NaN   \n",
       "1  Bachelor’s degree (B.A., B.S., B.Eng., etc.)   \n",
       "2  Bachelor’s degree (B.A., B.S., B.Eng., etc.)   \n",
       "3  Bachelor’s degree (B.A., B.S., B.Eng., etc.)   \n",
       "4  Bachelor’s degree (B.A., B.S., B.Eng., etc.)   \n",
       "\n",
       "                                           LearnCode  \\\n",
       "0                                                NaN   \n",
       "1  Books / Physical media;Colleague;Friend or fam...   \n",
       "2  Books / Physical media;Colleague;On the job tr...   \n",
       "3  Colleague;Friend or family member;Other online...   \n",
       "4  Books / Physical media;Online Courses or Certi...   \n",
       "\n",
       "                                     LearnCodeOnline  ...        Frequency_1  \\\n",
       "0                                                NaN  ...                NaN   \n",
       "1  Formal documentation provided by the owner of ...  ...   1-2 times a week   \n",
       "2  Formal documentation provided by the owner of ...  ...  6-10 times a week   \n",
       "3  Formal documentation provided by the owner of ...  ...   1-2 times a week   \n",
       "4  Formal documentation provided by the owner of ...  ...   1-2 times a week   \n",
       "\n",
       "         Frequency_2       Frequency_3         TimeSearching  \\\n",
       "0                NaN               NaN                   NaN   \n",
       "1   10+ times a week             Never   15-30 minutes a day   \n",
       "2  6-10 times a week  3-5 times a week   30-60 minutes a day   \n",
       "3   10+ times a week  1-2 times a week   15-30 minutes a day   \n",
       "4   1-2 times a week  3-5 times a week  60-120 minutes a day   \n",
       "\n",
       "         TimeAnswering                                   ProfessionalTech  \\\n",
       "0                  NaN                                                NaN   \n",
       "1  15-30 minutes a day  DevOps function;Microservices;Automated testin...   \n",
       "2  30-60 minutes a day  DevOps function;Microservices;Automated testin...   \n",
       "3  30-60 minutes a day  Automated testing;Continuous integration (CI) ...   \n",
       "4  30-60 minutes a day  Microservices;Automated testing;Observability ...   \n",
       "\n",
       "                                            Industry           SurveyLength  \\\n",
       "0                                                NaN                    NaN   \n",
       "1  Information Services, IT, Software Development...  Appropriate in length   \n",
       "2  Information Services, IT, Software Development...  Appropriate in length   \n",
       "3                                                NaN  Appropriate in length   \n",
       "4                                              Other  Appropriate in length   \n",
       "\n",
       "                   SurveyEase ConvertedCompYearly  \n",
       "0                         NaN                 NaN  \n",
       "1                        Easy            285000.0  \n",
       "2                        Easy            250000.0  \n",
       "3                        Easy            156000.0  \n",
       "4  Neither easy nor difficult             23456.0  \n",
       "\n",
       "[5 rows x 84 columns]"
      ]
     },
     "execution_count": 4,
     "metadata": {},
     "output_type": "execute_result"
    }
   ],
   "source": [
    "df.head()"
   ]
  },
  {
   "cell_type": "code",
   "execution_count": 5,
   "metadata": {},
   "outputs": [
    {
     "name": "stderr",
     "output_type": "stream",
     "text": [
      "/var/folders/m0/c7j8dd8j0x7f6bgg7f0t7kb80000gn/T/ipykernel_89353/1320856324.py:1: FutureWarning: The default value of numeric_only in DataFrame.max is deprecated. In a future version, it will default to False. In addition, specifying 'numeric_only=None' is deprecated. Select only valid columns or specify the value of numeric_only to silence this warning.\n",
      "  df.max(axis='rows')\n"
     ]
    },
    {
     "data": {
      "text/plain": [
       "ResponseId                                                         89184\n",
       "Q120                                                             I agree\n",
       "MainBranch                                                 None of these\n",
       "Age                                                   Under 18 years old\n",
       "CompTotal              49999999999999992051087350427974655758076739584.0\n",
       "WorkExp                                                             50.0\n",
       "ConvertedCompYearly                                           74351432.0\n",
       "dtype: object"
      ]
     },
     "execution_count": 5,
     "metadata": {},
     "output_type": "execute_result"
    }
   ],
   "source": [
    "df.max(axis='rows')"
   ]
  },
  {
   "attachments": {},
   "cell_type": "markdown",
   "metadata": {},
   "source": [
    "As we can see the maximum compensation is insane. Someone clearly had fun. In this case we should actually find the most realistic number. On official analysis made by Stackoverflow median salary in the US is $200,000. We'll go from this number."
   ]
  },
  {
   "cell_type": "code",
   "execution_count": 6,
   "metadata": {},
   "outputs": [
    {
     "data": {
      "text/html": [
       "<div>\n",
       "<style scoped>\n",
       "    .dataframe tbody tr th:only-of-type {\n",
       "        vertical-align: middle;\n",
       "    }\n",
       "\n",
       "    .dataframe tbody tr th {\n",
       "        vertical-align: top;\n",
       "    }\n",
       "\n",
       "    .dataframe thead th {\n",
       "        text-align: right;\n",
       "    }\n",
       "</style>\n",
       "<table border=\"1\" class=\"dataframe\">\n",
       "  <thead>\n",
       "    <tr style=\"text-align: right;\">\n",
       "      <th></th>\n",
       "      <th>Country</th>\n",
       "      <th>EdLevel</th>\n",
       "      <th>YearsCodePro</th>\n",
       "      <th>Employment</th>\n",
       "      <th>ConvertedCompYearly</th>\n",
       "    </tr>\n",
       "  </thead>\n",
       "  <tbody>\n",
       "    <tr>\n",
       "      <th>0</th>\n",
       "      <td>NaN</td>\n",
       "      <td>NaN</td>\n",
       "      <td>NaN</td>\n",
       "      <td>NaN</td>\n",
       "      <td>NaN</td>\n",
       "    </tr>\n",
       "    <tr>\n",
       "      <th>1</th>\n",
       "      <td>United States of America</td>\n",
       "      <td>Bachelor’s degree (B.A., B.S., B.Eng., etc.)</td>\n",
       "      <td>9</td>\n",
       "      <td>Employed, full-time</td>\n",
       "      <td>285000.0</td>\n",
       "    </tr>\n",
       "    <tr>\n",
       "      <th>2</th>\n",
       "      <td>United States of America</td>\n",
       "      <td>Bachelor’s degree (B.A., B.S., B.Eng., etc.)</td>\n",
       "      <td>23</td>\n",
       "      <td>Employed, full-time</td>\n",
       "      <td>250000.0</td>\n",
       "    </tr>\n",
       "    <tr>\n",
       "      <th>3</th>\n",
       "      <td>United States of America</td>\n",
       "      <td>Bachelor’s degree (B.A., B.S., B.Eng., etc.)</td>\n",
       "      <td>7</td>\n",
       "      <td>Employed, full-time</td>\n",
       "      <td>156000.0</td>\n",
       "    </tr>\n",
       "    <tr>\n",
       "      <th>4</th>\n",
       "      <td>Philippines</td>\n",
       "      <td>Bachelor’s degree (B.A., B.S., B.Eng., etc.)</td>\n",
       "      <td>4</td>\n",
       "      <td>Employed, full-time;Independent contractor, fr...</td>\n",
       "      <td>23456.0</td>\n",
       "    </tr>\n",
       "  </tbody>\n",
       "</table>\n",
       "</div>"
      ],
      "text/plain": [
       "                    Country                                       EdLevel  \\\n",
       "0                       NaN                                           NaN   \n",
       "1  United States of America  Bachelor’s degree (B.A., B.S., B.Eng., etc.)   \n",
       "2  United States of America  Bachelor’s degree (B.A., B.S., B.Eng., etc.)   \n",
       "3  United States of America  Bachelor’s degree (B.A., B.S., B.Eng., etc.)   \n",
       "4               Philippines  Bachelor’s degree (B.A., B.S., B.Eng., etc.)   \n",
       "\n",
       "  YearsCodePro                                         Employment  \\\n",
       "0          NaN                                                NaN   \n",
       "1            9                                Employed, full-time   \n",
       "2           23                                Employed, full-time   \n",
       "3            7                                Employed, full-time   \n",
       "4            4  Employed, full-time;Independent contractor, fr...   \n",
       "\n",
       "   ConvertedCompYearly  \n",
       "0                  NaN  \n",
       "1             285000.0  \n",
       "2             250000.0  \n",
       "3             156000.0  \n",
       "4              23456.0  "
      ]
     },
     "execution_count": 6,
     "metadata": {},
     "output_type": "execute_result"
    }
   ],
   "source": [
    "df = df[[\"Country\", \"EdLevel\", \"YearsCodePro\", \"Employment\", \"ConvertedCompYearly\"]]\n",
    "df.head()"
   ]
  },
  {
   "cell_type": "code",
   "execution_count": 7,
   "metadata": {},
   "outputs": [
    {
     "data": {
      "text/html": [
       "<div>\n",
       "<style scoped>\n",
       "    .dataframe tbody tr th:only-of-type {\n",
       "        vertical-align: middle;\n",
       "    }\n",
       "\n",
       "    .dataframe tbody tr th {\n",
       "        vertical-align: top;\n",
       "    }\n",
       "\n",
       "    .dataframe thead th {\n",
       "        text-align: right;\n",
       "    }\n",
       "</style>\n",
       "<table border=\"1\" class=\"dataframe\">\n",
       "  <thead>\n",
       "    <tr style=\"text-align: right;\">\n",
       "      <th></th>\n",
       "      <th>Country</th>\n",
       "      <th>EdLevel</th>\n",
       "      <th>YearsCodePro</th>\n",
       "      <th>Employment</th>\n",
       "      <th>ConvertedCompYearly</th>\n",
       "    </tr>\n",
       "  </thead>\n",
       "  <tbody>\n",
       "    <tr>\n",
       "      <th>1</th>\n",
       "      <td>United States of America</td>\n",
       "      <td>Bachelor’s degree (B.A., B.S., B.Eng., etc.)</td>\n",
       "      <td>9</td>\n",
       "      <td>Employed, full-time</td>\n",
       "      <td>285000.0</td>\n",
       "    </tr>\n",
       "    <tr>\n",
       "      <th>2</th>\n",
       "      <td>United States of America</td>\n",
       "      <td>Bachelor’s degree (B.A., B.S., B.Eng., etc.)</td>\n",
       "      <td>23</td>\n",
       "      <td>Employed, full-time</td>\n",
       "      <td>250000.0</td>\n",
       "    </tr>\n",
       "    <tr>\n",
       "      <th>3</th>\n",
       "      <td>United States of America</td>\n",
       "      <td>Bachelor’s degree (B.A., B.S., B.Eng., etc.)</td>\n",
       "      <td>7</td>\n",
       "      <td>Employed, full-time</td>\n",
       "      <td>156000.0</td>\n",
       "    </tr>\n",
       "    <tr>\n",
       "      <th>4</th>\n",
       "      <td>Philippines</td>\n",
       "      <td>Bachelor’s degree (B.A., B.S., B.Eng., etc.)</td>\n",
       "      <td>4</td>\n",
       "      <td>Employed, full-time;Independent contractor, fr...</td>\n",
       "      <td>23456.0</td>\n",
       "    </tr>\n",
       "    <tr>\n",
       "      <th>5</th>\n",
       "      <td>United Kingdom of Great Britain and Northern I...</td>\n",
       "      <td>Some college/university study without earning ...</td>\n",
       "      <td>21</td>\n",
       "      <td>Employed, full-time</td>\n",
       "      <td>96828.0</td>\n",
       "    </tr>\n",
       "  </tbody>\n",
       "</table>\n",
       "</div>"
      ],
      "text/plain": [
       "                                             Country  \\\n",
       "1                           United States of America   \n",
       "2                           United States of America   \n",
       "3                           United States of America   \n",
       "4                                        Philippines   \n",
       "5  United Kingdom of Great Britain and Northern I...   \n",
       "\n",
       "                                             EdLevel YearsCodePro  \\\n",
       "1       Bachelor’s degree (B.A., B.S., B.Eng., etc.)            9   \n",
       "2       Bachelor’s degree (B.A., B.S., B.Eng., etc.)           23   \n",
       "3       Bachelor’s degree (B.A., B.S., B.Eng., etc.)            7   \n",
       "4       Bachelor’s degree (B.A., B.S., B.Eng., etc.)            4   \n",
       "5  Some college/university study without earning ...           21   \n",
       "\n",
       "                                          Employment  ConvertedCompYearly  \n",
       "1                                Employed, full-time             285000.0  \n",
       "2                                Employed, full-time             250000.0  \n",
       "3                                Employed, full-time             156000.0  \n",
       "4  Employed, full-time;Independent contractor, fr...              23456.0  \n",
       "5                                Employed, full-time              96828.0  "
      ]
     },
     "execution_count": 7,
     "metadata": {},
     "output_type": "execute_result"
    }
   ],
   "source": [
    "df = df[df[\"ConvertedCompYearly\"].notnull()]\n",
    "df.head()"
   ]
  },
  {
   "cell_type": "code",
   "execution_count": 8,
   "metadata": {},
   "outputs": [
    {
     "name": "stdout",
     "output_type": "stream",
     "text": [
      "<class 'pandas.core.frame.DataFrame'>\n",
      "Int64Index: 48019 entries, 1 to 89171\n",
      "Data columns (total 5 columns):\n",
      " #   Column               Non-Null Count  Dtype  \n",
      "---  ------               --------------  -----  \n",
      " 0   Country              48019 non-null  object \n",
      " 1   EdLevel              48019 non-null  object \n",
      " 2   YearsCodePro         47825 non-null  object \n",
      " 3   Employment           48007 non-null  object \n",
      " 4   ConvertedCompYearly  48019 non-null  float64\n",
      "dtypes: float64(1), object(4)\n",
      "memory usage: 2.2+ MB\n"
     ]
    }
   ],
   "source": [
    "df.info()"
   ]
  },
  {
   "cell_type": "code",
   "execution_count": 9,
   "metadata": {},
   "outputs": [
    {
     "data": {
      "text/plain": [
       "Country                0\n",
       "EdLevel                0\n",
       "YearsCodePro           0\n",
       "Employment             0\n",
       "ConvertedCompYearly    0\n",
       "dtype: int64"
      ]
     },
     "execution_count": 9,
     "metadata": {},
     "output_type": "execute_result"
    }
   ],
   "source": [
    "df = df.dropna()\n",
    "df.isnull().sum()"
   ]
  },
  {
   "cell_type": "code",
   "execution_count": 10,
   "metadata": {},
   "outputs": [
    {
     "data": {
      "text/plain": [
       "Employed, full-time                                                                             39155\n",
       "Independent contractor, freelancer, or self-employed                                             3880\n",
       "Employed, full-time;Independent contractor, freelancer, or self-employed                         3282\n",
       "Employed, part-time                                                                               899\n",
       "Independent contractor, freelancer, or self-employed;Employed, part-time                          238\n",
       "Employed, full-time;Employed, part-time                                                           152\n",
       "Employed, full-time;Independent contractor, freelancer, or self-employed;Employed, part-time      109\n",
       "Retired                                                                                            33\n",
       "I prefer not to say                                                                                33\n",
       "Independent contractor, freelancer, or self-employed;Retired                                       16\n",
       "Employed, full-time;Retired                                                                         7\n",
       "Employed, full-time;Independent contractor, freelancer, or self-employed;Retired                    4\n",
       "Employed, part-time;Retired                                                                         3\n",
       "Independent contractor, freelancer, or self-employed;Employed, part-time;Retired                    2\n",
       "Name: Employment, dtype: int64"
      ]
     },
     "execution_count": 10,
     "metadata": {},
     "output_type": "execute_result"
    }
   ],
   "source": [
    "df['Employment'].value_counts()"
   ]
  },
  {
   "cell_type": "code",
   "execution_count": 11,
   "metadata": {},
   "outputs": [
    {
     "data": {
      "text/html": [
       "<div>\n",
       "<style scoped>\n",
       "    .dataframe tbody tr th:only-of-type {\n",
       "        vertical-align: middle;\n",
       "    }\n",
       "\n",
       "    .dataframe tbody tr th {\n",
       "        vertical-align: top;\n",
       "    }\n",
       "\n",
       "    .dataframe thead th {\n",
       "        text-align: right;\n",
       "    }\n",
       "</style>\n",
       "<table border=\"1\" class=\"dataframe\">\n",
       "  <thead>\n",
       "    <tr style=\"text-align: right;\">\n",
       "      <th></th>\n",
       "      <th>Country</th>\n",
       "      <th>EdLevel</th>\n",
       "      <th>YearsCodePro</th>\n",
       "      <th>Employment</th>\n",
       "      <th>ConvertedCompYearly</th>\n",
       "    </tr>\n",
       "  </thead>\n",
       "  <tbody>\n",
       "    <tr>\n",
       "      <th>13709</th>\n",
       "      <td>United States of America</td>\n",
       "      <td>Associate degree (A.A., A.S., etc.)</td>\n",
       "      <td>30</td>\n",
       "      <td>Independent contractor, freelancer, or self-em...</td>\n",
       "      <td>12000.0</td>\n",
       "    </tr>\n",
       "    <tr>\n",
       "      <th>17715</th>\n",
       "      <td>Poland</td>\n",
       "      <td>Something else</td>\n",
       "      <td>16</td>\n",
       "      <td>Employed, full-time;Retired</td>\n",
       "      <td>16748.0</td>\n",
       "    </tr>\n",
       "    <tr>\n",
       "      <th>18455</th>\n",
       "      <td>Russian Federation</td>\n",
       "      <td>Master’s degree (M.A., M.S., M.Eng., MBA, etc.)</td>\n",
       "      <td>43</td>\n",
       "      <td>Employed, part-time;Retired</td>\n",
       "      <td>2970.0</td>\n",
       "    </tr>\n",
       "    <tr>\n",
       "      <th>24940</th>\n",
       "      <td>Jordan</td>\n",
       "      <td>Bachelor’s degree (B.A., B.S., B.Eng., etc.)</td>\n",
       "      <td>3</td>\n",
       "      <td>Employed, full-time;Independent contractor, fr...</td>\n",
       "      <td>9850.0</td>\n",
       "    </tr>\n",
       "    <tr>\n",
       "      <th>25814</th>\n",
       "      <td>Canada</td>\n",
       "      <td>Bachelor’s degree (B.A., B.S., B.Eng., etc.)</td>\n",
       "      <td>31</td>\n",
       "      <td>Employed, part-time;Retired</td>\n",
       "      <td>29741.0</td>\n",
       "    </tr>\n",
       "    <tr>\n",
       "      <th>26737</th>\n",
       "      <td>United States of America</td>\n",
       "      <td>Professional degree (JD, MD, Ph.D, Ed.D, etc.)</td>\n",
       "      <td>30</td>\n",
       "      <td>Employed, full-time;Retired</td>\n",
       "      <td>150000.0</td>\n",
       "    </tr>\n",
       "    <tr>\n",
       "      <th>27934</th>\n",
       "      <td>United States of America</td>\n",
       "      <td>Bachelor’s degree (B.A., B.S., B.Eng., etc.)</td>\n",
       "      <td>34</td>\n",
       "      <td>Independent contractor, freelancer, or self-em...</td>\n",
       "      <td>72000.0</td>\n",
       "    </tr>\n",
       "    <tr>\n",
       "      <th>34087</th>\n",
       "      <td>Turkey</td>\n",
       "      <td>Master’s degree (M.A., M.S., M.Eng., MBA, etc.)</td>\n",
       "      <td>22</td>\n",
       "      <td>Employed, full-time;Independent contractor, fr...</td>\n",
       "      <td>25384.0</td>\n",
       "    </tr>\n",
       "    <tr>\n",
       "      <th>34248</th>\n",
       "      <td>United States of America</td>\n",
       "      <td>Bachelor’s degree (B.A., B.S., B.Eng., etc.)</td>\n",
       "      <td>More than 50 years</td>\n",
       "      <td>Independent contractor, freelancer, or self-em...</td>\n",
       "      <td>150000.0</td>\n",
       "    </tr>\n",
       "    <tr>\n",
       "      <th>37089</th>\n",
       "      <td>United Kingdom of Great Britain and Northern I...</td>\n",
       "      <td>Bachelor’s degree (B.A., B.S., B.Eng., etc.)</td>\n",
       "      <td>20</td>\n",
       "      <td>Independent contractor, freelancer, or self-em...</td>\n",
       "      <td>17876.0</td>\n",
       "    </tr>\n",
       "    <tr>\n",
       "      <th>45168</th>\n",
       "      <td>New Zealand</td>\n",
       "      <td>Professional degree (JD, MD, Ph.D, Ed.D, etc.)</td>\n",
       "      <td>42</td>\n",
       "      <td>Employed, full-time;Retired</td>\n",
       "      <td>48562.0</td>\n",
       "    </tr>\n",
       "    <tr>\n",
       "      <th>47174</th>\n",
       "      <td>Turkey</td>\n",
       "      <td>Bachelor’s degree (B.A., B.S., B.Eng., etc.)</td>\n",
       "      <td>23</td>\n",
       "      <td>Employed, full-time;Independent contractor, fr...</td>\n",
       "      <td>16453.0</td>\n",
       "    </tr>\n",
       "    <tr>\n",
       "      <th>55009</th>\n",
       "      <td>United States of America</td>\n",
       "      <td>Professional degree (JD, MD, Ph.D, Ed.D, etc.)</td>\n",
       "      <td>More than 50 years</td>\n",
       "      <td>Employed, part-time;Retired</td>\n",
       "      <td>2000.0</td>\n",
       "    </tr>\n",
       "    <tr>\n",
       "      <th>56078</th>\n",
       "      <td>United States of America</td>\n",
       "      <td>Master’s degree (M.A., M.S., M.Eng., MBA, etc.)</td>\n",
       "      <td>More than 50 years</td>\n",
       "      <td>Employed, full-time;Independent contractor, fr...</td>\n",
       "      <td>100000.0</td>\n",
       "    </tr>\n",
       "  </tbody>\n",
       "</table>\n",
       "</div>"
      ],
      "text/plain": [
       "                                                 Country  \\\n",
       "13709                           United States of America   \n",
       "17715                                             Poland   \n",
       "18455                                 Russian Federation   \n",
       "24940                                             Jordan   \n",
       "25814                                             Canada   \n",
       "26737                           United States of America   \n",
       "27934                           United States of America   \n",
       "34087                                             Turkey   \n",
       "34248                           United States of America   \n",
       "37089  United Kingdom of Great Britain and Northern I...   \n",
       "45168                                        New Zealand   \n",
       "47174                                             Turkey   \n",
       "55009                           United States of America   \n",
       "56078                           United States of America   \n",
       "\n",
       "                                               EdLevel        YearsCodePro  \\\n",
       "13709              Associate degree (A.A., A.S., etc.)                  30   \n",
       "17715                                   Something else                  16   \n",
       "18455  Master’s degree (M.A., M.S., M.Eng., MBA, etc.)                  43   \n",
       "24940     Bachelor’s degree (B.A., B.S., B.Eng., etc.)                   3   \n",
       "25814     Bachelor’s degree (B.A., B.S., B.Eng., etc.)                  31   \n",
       "26737   Professional degree (JD, MD, Ph.D, Ed.D, etc.)                  30   \n",
       "27934     Bachelor’s degree (B.A., B.S., B.Eng., etc.)                  34   \n",
       "34087  Master’s degree (M.A., M.S., M.Eng., MBA, etc.)                  22   \n",
       "34248     Bachelor’s degree (B.A., B.S., B.Eng., etc.)  More than 50 years   \n",
       "37089     Bachelor’s degree (B.A., B.S., B.Eng., etc.)                  20   \n",
       "45168   Professional degree (JD, MD, Ph.D, Ed.D, etc.)                  42   \n",
       "47174     Bachelor’s degree (B.A., B.S., B.Eng., etc.)                  23   \n",
       "55009   Professional degree (JD, MD, Ph.D, Ed.D, etc.)  More than 50 years   \n",
       "56078  Master’s degree (M.A., M.S., M.Eng., MBA, etc.)  More than 50 years   \n",
       "\n",
       "                                              Employment  ConvertedCompYearly  \n",
       "13709  Independent contractor, freelancer, or self-em...              12000.0  \n",
       "17715                        Employed, full-time;Retired              16748.0  \n",
       "18455                        Employed, part-time;Retired               2970.0  \n",
       "24940  Employed, full-time;Independent contractor, fr...               9850.0  \n",
       "25814                        Employed, part-time;Retired              29741.0  \n",
       "26737                        Employed, full-time;Retired             150000.0  \n",
       "27934  Independent contractor, freelancer, or self-em...              72000.0  \n",
       "34087  Employed, full-time;Independent contractor, fr...              25384.0  \n",
       "34248  Independent contractor, freelancer, or self-em...             150000.0  \n",
       "37089  Independent contractor, freelancer, or self-em...              17876.0  \n",
       "45168                        Employed, full-time;Retired              48562.0  \n",
       "47174  Employed, full-time;Independent contractor, fr...              16453.0  \n",
       "55009                        Employed, part-time;Retired               2000.0  \n",
       "56078  Employed, full-time;Independent contractor, fr...             100000.0  "
      ]
     },
     "execution_count": 11,
     "metadata": {},
     "output_type": "execute_result"
    }
   ],
   "source": [
    "# Check the data like \"Employed, full-time;Independent contractor, freelancer, or self-employed;Retired; Independent contractor, freelancer, or self-employed;Retired\" and their countries\n",
    "interest_data = df[(df['Employment'] == 'Employed, full-time;Retired') | (df['Employment'] == 'Employed, part-time;Retired') | (df['Employment'] == 'Employed, full-time;Independent contractor, freelancer, or self-employed;Retired') | (df['Employment'] == 'Independent contractor, freelancer, or self-employed;Retired')] \n",
    "interest_data.head(14)"
   ]
  },
  {
   "attachments": {},
   "cell_type": "markdown",
   "metadata": {},
   "source": [
    "The above data clearly doesn't make sense. I'm getting rid of it. "
   ]
  },
  {
   "cell_type": "code",
   "execution_count": 12,
   "metadata": {},
   "outputs": [
    {
     "data": {
      "text/plain": [
       "Employed, full-time                                     39155\n",
       "Independent contractor, freelancer, or self-employed     3880\n",
       "Employed, part-time                                       899\n",
       "Name: Employment, dtype: int64"
      ]
     },
     "execution_count": 12,
     "metadata": {},
     "output_type": "execute_result"
    }
   ],
   "source": [
    "# Only keeping the rows where the user said that they are employed somehow without being retired.\n",
    "df = df[(df['Employment'] == 'Employed, full-time')| (df['Employment'] == 'Employed, part-time') | (df['Employment'] == 'Independent contractor, freelancer, or self-employed')]\n",
    "df['Employment'].value_counts()"
   ]
  },
  {
   "cell_type": "code",
   "execution_count": 13,
   "metadata": {},
   "outputs": [
    {
     "name": "stdout",
     "output_type": "stream",
     "text": [
      "<class 'pandas.core.frame.DataFrame'>\n",
      "Int64Index: 43934 entries, 1 to 89171\n",
      "Data columns (total 4 columns):\n",
      " #   Column               Non-Null Count  Dtype  \n",
      "---  ------               --------------  -----  \n",
      " 0   Country              43934 non-null  object \n",
      " 1   EdLevel              43934 non-null  object \n",
      " 2   YearsCodePro         43934 non-null  object \n",
      " 3   ConvertedCompYearly  43934 non-null  float64\n",
      "dtypes: float64(1), object(3)\n",
      "memory usage: 1.7+ MB\n"
     ]
    }
   ],
   "source": [
    "df = df.drop(\"Employment\", axis = 1)\n",
    "df.info()"
   ]
  },
  {
   "cell_type": "code",
   "execution_count": 14,
   "metadata": {},
   "outputs": [
    {
     "data": {
      "text/plain": [
       "United States of America                                11083\n",
       "Germany                                                  3706\n",
       "United Kingdom of Great Britain and Northern Ireland     3359\n",
       "Canada                                                   1949\n",
       "India                                                    1698\n",
       "                                                        ...  \n",
       "Guyana                                                      1\n",
       "Guinea-Bissau                                               1\n",
       "Gabon                                                       1\n",
       "Tajikistan                                                  1\n",
       "Antigua and Barbuda                                         1\n",
       "Name: Country, Length: 170, dtype: int64"
      ]
     },
     "execution_count": 14,
     "metadata": {},
     "output_type": "execute_result"
    }
   ],
   "source": [
    "df['Country'].value_counts()"
   ]
  },
  {
   "cell_type": "code",
   "execution_count": 15,
   "metadata": {},
   "outputs": [
    {
     "data": {
      "text/plain": [
       "64254.0     715\n",
       "53545.0     541\n",
       "200000.0    535\n",
       "150000.0    529\n",
       "74963.0     501\n",
       "           ... \n",
       "31666.0       1\n",
       "138091.0      1\n",
       "49583.0       1\n",
       "251000.0      1\n",
       "319711.0      1\n",
       "Name: ConvertedCompYearly, Length: 8280, dtype: int64"
      ]
     },
     "execution_count": 15,
     "metadata": {},
     "output_type": "execute_result"
    }
   ],
   "source": [
    "df['ConvertedCompYearly'].value_counts()"
   ]
  },
  {
   "attachments": {},
   "cell_type": "markdown",
   "metadata": {},
   "source": [
    "It's a lot of numbers (we have 160 countries). We can pick and choose the outliers. Outliers? \n",
    "*An outlier is an observation that lies an abnormal distance from other values in a random sample from a population.*\n",
    "So we need to pick the countries where we have more respondents. We can't really build any predictions with this data. The model will be incorrect."
   ]
  },
  {
   "cell_type": "code",
   "execution_count": 16,
   "metadata": {},
   "outputs": [],
   "source": [
    "# a function to choose specific categories.\n",
    "def pick_countries(countries, number_of_responses):\n",
    "  countries_dict = {}\n",
    "  for i in range(len(countries)):\n",
    "    if countries.values[i] >= number_of_responses:\n",
    "      countries_dict[countries.index[i]] = countries.index[i]\n",
    "    else:\n",
    "      countries_dict[countries.index[i]] = 'Other'\n",
    "  return countries_dict"
   ]
  },
  {
   "cell_type": "code",
   "execution_count": 17,
   "metadata": {},
   "outputs": [
    {
     "data": {
      "text/plain": [
       "United States of America                                11083\n",
       "Germany                                                  3706\n",
       "United Kingdom of Great Britain and Northern Ireland     3359\n",
       "Other                                                    2506\n",
       "Canada                                                   1949\n",
       "India                                                    1698\n",
       "France                                                   1685\n",
       "Netherlands                                              1258\n",
       "Australia                                                1105\n",
       "Brazil                                                   1103\n",
       "Spain                                                    1075\n",
       "Poland                                                   1042\n",
       "Sweden                                                    985\n",
       "Italy                                                     954\n",
       "Switzerland                                               621\n",
       "Austria                                                   486\n",
       "Denmark                                                   485\n",
       "Norway                                                    453\n",
       "Israel                                                    442\n",
       "Czech Republic                                            429\n",
       "Portugal                                                  425\n",
       "Belgium                                                   421\n",
       "Finland                                                   414\n",
       "New Zealand                                               378\n",
       "Russian Federation                                        374\n",
       "Ukraine                                                   360\n",
       "Romania                                                   356\n",
       "Turkey                                                    351\n",
       "South Africa                                              324\n",
       "Greece                                                    291\n",
       "Mexico                                                    274\n",
       "Ireland                                                   270\n",
       "Hungary                                                   269\n",
       "Colombia                                                  250\n",
       "Argentina                                                 239\n",
       "Pakistan                                                  212\n",
       "Bulgaria                                                  210\n",
       "Iran, Islamic Republic of...                              197\n",
       "Serbia                                                    181\n",
       "Japan                                                     172\n",
       "Lithuania                                                 171\n",
       "China                                                     157\n",
       "Slovenia                                                  145\n",
       "Slovakia                                                  145\n",
       "Bangladesh                                                143\n",
       "Indonesia                                                 141\n",
       "Croatia                                                   140\n",
       "Singapore                                                 133\n",
       "Estonia                                                   130\n",
       "Philippines                                               119\n",
       "Chile                                                     118\n",
       "Name: Country, dtype: int64"
      ]
     },
     "execution_count": 17,
     "metadata": {},
     "output_type": "execute_result"
    }
   ],
   "source": [
    "countries = pick_countries(df.Country.value_counts(), 110)\n",
    "df['Country'] = df['Country'].map(countries)\n",
    "df.Country.value_counts()"
   ]
  },
  {
   "attachments": {},
   "cell_type": "markdown",
   "metadata": {},
   "source": [
    "As it was stated before for the sake of not confusing the numbers and our predictions, we'll use normal frames for salaries (without unrealistic numbers). "
   ]
  },
  {
   "cell_type": "code",
   "execution_count": 18,
   "metadata": {},
   "outputs": [
    {
     "data": {
      "image/png": "[encoded data removed]",
      "text/plain": [
       "<Figure size 2000x700 with 1 Axes>"
      ]
     },
     "metadata": {},
     "output_type": "display_data"
    }
   ],
   "source": [
    "df = df[df[\"ConvertedCompYearly\"] <= 150000]\n",
    "df = df[df[\"ConvertedCompYearly\"] >= 10000]\n",
    "\n",
    "fig, ax = plt.subplots(1,1, figsize=(20, 7))\n",
    "sns.barplot(y='ConvertedCompYearly', x='Country', data=df, palette='plasma')\n",
    "plt.suptitle('Salary (US$) vs Other Countries')\n",
    "plt.title('')\n",
    "plt.ylabel('ConvertedCompYearly')\n",
    "plt.xticks(rotation=90)\n",
    "plt.show()\n"
   ]
  },
  {
   "attachments": {},
   "cell_type": "markdown",
   "metadata": {},
   "source": [
    "I'm honestly confused with Russian Federation results. They do look like they earned a bunch in 2022."
   ]
  },
  {
   "cell_type": "code",
   "execution_count": 19,
   "metadata": {},
   "outputs": [
    {
     "data": {
      "text/plain": [
       "array(['21', '3', '15', '9', 'Less than 1 year', '10', '2', '6', '14',\n",
       "       '5', '7', '13', '4', '28', '30', '11', '24', '25', '23', '12',\n",
       "       '16', '8', '18', '19', '20', '17', '38', '33', '29', '22', '1',\n",
       "       '27', '31', '34', '26', '37', '42', '39', '36', '40', '41', '32',\n",
       "       '44', '35', '48', '45', 'More than 50 years', '50', '43', '46',\n",
       "       '47', '49'], dtype=object)"
      ]
     },
     "execution_count": 19,
     "metadata": {},
     "output_type": "execute_result"
    }
   ],
   "source": [
    "df[\"YearsCodePro\"].unique()"
   ]
  },
  {
   "attachments": {},
   "cell_type": "markdown",
   "metadata": {},
   "source": [
    "We do have string values, plus, some of the values are actually just can't be easily converted to numbers. But we need these numbers to be floats. \n",
    "'Less than 1 year'= 0.5\n",
    "'More than 50 years' = 50"
   ]
  },
  {
   "cell_type": "code",
   "execution_count": 20,
   "metadata": {},
   "outputs": [
    {
     "data": {
      "text/plain": [
       "array([21. ,  3. , 15. ,  9. ,  0.5, 10. ,  2. ,  6. , 14. ,  5. ,  7. ,\n",
       "       13. ,  4. , 28. , 30. , 11. , 24. , 25. , 23. , 12. , 16. ,  8. ,\n",
       "       18. , 19. , 20. , 17. , 38. , 33. , 29. , 22. ,  1. , 27. , 31. ,\n",
       "       34. , 26. , 37. , 42. , 39. , 36. , 40. , 41. , 32. , 44. , 35. ,\n",
       "       48. , 45. , 50. , 43. , 46. , 47. , 49. ])"
      ]
     },
     "execution_count": 20,
     "metadata": {},
     "output_type": "execute_result"
    }
   ],
   "source": [
    "def correct_experience(age):\n",
    "  if age == \"More than 50 years\":\n",
    "    return 50\n",
    "  elif age == 'Less than 1 year':\n",
    "    return 0.5\n",
    "  return float(age)\n",
    "df['YearsCodePro'] = df['YearsCodePro'].apply(correct_experience)\n",
    "df[\"YearsCodePro\"].unique()\n"
   ]
  },
  {
   "cell_type": "code",
   "execution_count": 21,
   "metadata": {},
   "outputs": [
    {
     "data": {
      "text/plain": [
       "array(['Some college/university study without earning a degree',\n",
       "       'Bachelor’s degree (B.A., B.S., B.Eng., etc.)',\n",
       "       'Master’s degree (M.A., M.S., M.Eng., MBA, etc.)',\n",
       "       'Professional degree (JD, MD, Ph.D, Ed.D, etc.)',\n",
       "       'Associate degree (A.A., A.S., etc.)',\n",
       "       'Secondary school (e.g. American high school, German Realschule or Gymnasium, etc.)',\n",
       "       'Primary/elementary school', 'Something else'], dtype=object)"
      ]
     },
     "execution_count": 21,
     "metadata": {},
     "output_type": "execute_result"
    }
   ],
   "source": [
    "df['EdLevel'].unique()"
   ]
  },
  {
   "cell_type": "code",
   "execution_count": 22,
   "metadata": {},
   "outputs": [
    {
     "data": {
      "text/plain": [
       "array(['No degree', 'Bachelor’s degree', 'Master’s degree', 'PhD'],\n",
       "      dtype=object)"
      ]
     },
     "execution_count": 22,
     "metadata": {},
     "output_type": "execute_result"
    }
   ],
   "source": [
    "def correct_education(education):\n",
    "  if \"Bachelor’s degree\" in education:\n",
    "    return \"Bachelor’s degree\"\n",
    "  elif \"Master’s degree\" in education:\n",
    "    return \"Master’s degree\"\n",
    "  elif \"Professional degree\" in education or \"Other doctoral\" in education:\n",
    "        return 'PhD'\n",
    "  else:\n",
    "    return \"No degree\"\n",
    "df['EdLevel'] = df['EdLevel'].apply(correct_education)\n",
    "df['EdLevel'].unique()"
   ]
  },
  {
   "cell_type": "code",
   "execution_count": 23,
   "metadata": {},
   "outputs": [
    {
     "data": {
      "text/plain": [
       "array([49, 50, 15,  1, 17, 45, 16, 44, 43,  5, 36, 25,  3,  7,  0, 46, 27,\n",
       "       39, 29, 20, 32,  2, 31, 40, 38, 22, 35,  4, 11, 13, 18, 47,  9, 24,\n",
       "       48, 14, 26, 42, 23, 12, 37, 30, 19,  6, 33, 28, 10, 41,  8, 21, 34])"
      ]
     },
     "execution_count": 23,
     "metadata": {},
     "output_type": "execute_result"
    }
   ],
   "source": [
    "from sklearn.preprocessing import LabelEncoder\n",
    "\n",
    "label_country = LabelEncoder()\n",
    "df['Country'] = label_country.fit_transform(df['Country'])\n",
    "df['Country'].unique()"
   ]
  },
  {
   "cell_type": "code",
   "execution_count": 24,
   "metadata": {},
   "outputs": [
    {
     "data": {
      "text/plain": [
       "array([2, 0, 1, 3])"
      ]
     },
     "execution_count": 24,
     "metadata": {},
     "output_type": "execute_result"
    }
   ],
   "source": [
    "label_education = LabelEncoder()\n",
    "df['EdLevel'] = label_education.fit_transform(df['EdLevel'])\n",
    "df['EdLevel'].unique()"
   ]
  },
  {
   "attachments": {},
   "cell_type": "markdown",
   "metadata": {},
   "source": [
    "X -> features (we are using the columns except for the Compensation variable, we're dropping it)\n",
    "y -> label (this is what we should predict)"
   ]
  },
  {
   "cell_type": "code",
   "execution_count": 25,
   "metadata": {},
   "outputs": [],
   "source": [
    "X = df.drop(\"ConvertedCompYearly\", axis=1)\n",
    "y_true = df[\"ConvertedCompYearly\"] "
   ]
  },
  {
   "cell_type": "code",
   "execution_count": 26,
   "metadata": {},
   "outputs": [
    {
     "data": {
      "text/html": [
       "<div>\n",
       "<style scoped>\n",
       "    .dataframe tbody tr th:only-of-type {\n",
       "        vertical-align: middle;\n",
       "    }\n",
       "\n",
       "    .dataframe tbody tr th {\n",
       "        vertical-align: top;\n",
       "    }\n",
       "\n",
       "    .dataframe thead th {\n",
       "        text-align: right;\n",
       "    }\n",
       "</style>\n",
       "<table border=\"1\" class=\"dataframe\">\n",
       "  <thead>\n",
       "    <tr style=\"text-align: right;\">\n",
       "      <th></th>\n",
       "      <th>Country</th>\n",
       "      <th>EdLevel</th>\n",
       "      <th>YearsCodePro</th>\n",
       "    </tr>\n",
       "  </thead>\n",
       "  <tbody>\n",
       "    <tr>\n",
       "      <th>5</th>\n",
       "      <td>49</td>\n",
       "      <td>2</td>\n",
       "      <td>21.0</td>\n",
       "    </tr>\n",
       "    <tr>\n",
       "      <th>6</th>\n",
       "      <td>50</td>\n",
       "      <td>2</td>\n",
       "      <td>3.0</td>\n",
       "    </tr>\n",
       "    <tr>\n",
       "      <th>7</th>\n",
       "      <td>50</td>\n",
       "      <td>0</td>\n",
       "      <td>3.0</td>\n",
       "    </tr>\n",
       "    <tr>\n",
       "      <th>8</th>\n",
       "      <td>15</td>\n",
       "      <td>1</td>\n",
       "      <td>15.0</td>\n",
       "    </tr>\n",
       "    <tr>\n",
       "      <th>11</th>\n",
       "      <td>1</td>\n",
       "      <td>0</td>\n",
       "      <td>9.0</td>\n",
       "    </tr>\n",
       "  </tbody>\n",
       "</table>\n",
       "</div>"
      ],
      "text/plain": [
       "    Country  EdLevel  YearsCodePro\n",
       "5        49        2          21.0\n",
       "6        50        2           3.0\n",
       "7        50        0           3.0\n",
       "8        15        1          15.0\n",
       "11        1        0           9.0"
      ]
     },
     "execution_count": 26,
     "metadata": {},
     "output_type": "execute_result"
    }
   ],
   "source": [
    "X.head()"
   ]
  },
  {
   "cell_type": "code",
   "execution_count": 27,
   "metadata": {},
   "outputs": [
    {
     "data": {
      "text/plain": [
       "5      96828.0\n",
       "6     135000.0\n",
       "7      80000.0\n",
       "8      64254.0\n",
       "11     78003.0\n",
       "12     75000.0\n",
       "13    150000.0\n",
       "15    107090.0\n",
       "16     45149.0\n",
       "17     58899.0\n",
       "19     75010.0\n",
       "20     60828.0\n",
       "21     85672.0\n",
       "23     69608.0\n",
       "24     37481.0\n",
       "25    103743.0\n",
       "28     38483.0\n",
       "29     74963.0\n",
       "31     26374.0\n",
       "32     53545.0\n",
       "Name: ConvertedCompYearly, dtype: float64"
      ]
     },
     "execution_count": 27,
     "metadata": {},
     "output_type": "execute_result"
    }
   ],
   "source": [
    "y_true[:20]"
   ]
  },
  {
   "cell_type": "code",
   "execution_count": 28,
   "metadata": {},
   "outputs": [
    {
     "data": {
      "text/plain": [
       "((25534, 3), (8512, 3))"
      ]
     },
     "execution_count": 28,
     "metadata": {},
     "output_type": "execute_result"
    }
   ],
   "source": [
    "# Splitting the data\n",
    "from sklearn.model_selection import train_test_split\n",
    "X_train, X_test, y_train, y_test = train_test_split(X, y_true, test_size=0.25, random_state=42)\n",
    "X_train.shape, X_test.shape"
   ]
  },
  {
   "cell_type": "code",
   "execution_count": 29,
   "metadata": {},
   "outputs": [],
   "source": [
    "# Evaluating how good is the model\n",
    "from sklearn.metrics import mean_squared_error\n",
    "import numpy as np"
   ]
  },
  {
   "cell_type": "code",
   "execution_count": 30,
   "metadata": {},
   "outputs": [],
   "source": [
    "from sklearn.ensemble import RandomForestRegressor\n",
    "\n",
    "random_forest_reg = RandomForestRegressor(random_state=0)\n",
    "random_forest_reg.fit(X_train, y_train)\n",
    "pred = random_forest_reg.predict(X_test)"
   ]
  },
  {
   "cell_type": "code",
   "execution_count": 31,
   "metadata": {},
   "outputs": [
    {
     "name": "stdout",
     "output_type": "stream",
     "text": [
      "$26,061.09\n"
     ]
    }
   ],
   "source": [
    "error = np.sqrt(mean_squared_error(y_test, pred))\n",
    "print(\"${:,.02f}\".format(error))"
   ]
  },
  {
   "cell_type": "code",
   "execution_count": 32,
   "metadata": {},
   "outputs": [
    {
     "data": {
      "text/plain": [
       "array([['Russian Federation', 'No degree', '1']], dtype='<U21')"
      ]
     },
     "execution_count": 32,
     "metadata": {},
     "output_type": "execute_result"
    }
   ],
   "source": [
    "X = np.array([['Russian Federation', 'No degree', 1]])\n",
    "X"
   ]
  },
  {
   "cell_type": "code",
   "execution_count": 33,
   "metadata": {},
   "outputs": [
    {
     "data": {
      "text/plain": [
       "array([[38.,  2.,  1.]])"
      ]
     },
     "execution_count": 33,
     "metadata": {},
     "output_type": "execute_result"
    }
   ],
   "source": [
    "X[:, 0] = label_country.transform(X[:,0])\n",
    "X[:, 1] = label_education.transform(X[:,1])\n",
    "X = X.astype(float)\n",
    "X"
   ]
  },
  {
   "cell_type": "code",
   "execution_count": 34,
   "metadata": {},
   "outputs": [
    {
     "name": "stderr",
     "output_type": "stream",
     "text": [
      "/Users/fandorinanna/opt/miniconda3/envs/myenv/lib/python3.10/site-packages/sklearn/base.py:439: UserWarning: X does not have valid feature names, but RandomForestRegressor was fitted with feature names\n",
      "  warnings.warn(\n"
     ]
    },
    {
     "data": {
      "text/plain": [
       "array([14513.61419048])"
      ]
     },
     "execution_count": 34,
     "metadata": {},
     "output_type": "execute_result"
    }
   ],
   "source": [
    "y_pred = random_forest_reg.predict(X)\n",
    "y_pred"
   ]
  },
  {
   "cell_type": "code",
   "execution_count": 35,
   "metadata": {},
   "outputs": [],
   "source": [
    "import pickle"
   ]
  },
  {
   "cell_type": "code",
   "execution_count": 36,
   "metadata": {},
   "outputs": [],
   "source": [
    "data = {\"model\": random_forest_reg, \"label_country\": label_country, \"label_education\": label_education}\n",
    "with open('saved_steps.pkl', 'wb') as file: # wb -> write binary\n",
    "  pickle.dump(data, file)"
   ]
  },
  {
   "cell_type": "code",
   "execution_count": 37,
   "metadata": {},
   "outputs": [],
   "source": [
    "with open('saved_steps.pkl', 'rb') as file:\n",
    "  data = pickle.load(file)\n",
    "\n",
    "model_loaded = data[\"model\"]\n",
    "label_country = data[\"label_country\"]\n",
    "label_education = data[\"label_education\"]"
   ]
  },
  {
   "cell_type": "code",
   "execution_count": 38,
   "metadata": {},
   "outputs": [
    {
     "name": "stderr",
     "output_type": "stream",
     "text": [
      "/Users/fandorinanna/opt/miniconda3/envs/myenv/lib/python3.10/site-packages/sklearn/base.py:439: UserWarning: X does not have valid feature names, but RandomForestRegressor was fitted with feature names\n",
      "  warnings.warn(\n"
     ]
    },
    {
     "data": {
      "text/plain": [
       "array([14513.61419048])"
      ]
     },
     "execution_count": 38,
     "metadata": {},
     "output_type": "execute_result"
    }
   ],
   "source": [
    "y_pred = model_loaded.predict(X)\n",
    "y_pred"
   ]
  }
 ],
 "metadata": {
  "kernelspec": {
   "display_name": "myenv",
   "language": "python",
   "name": "python3"
  },
  "language_info": {
   "codemirror_mode": {
    "name": "ipython",
    "version": 3
   },
   "file_extension": ".py",
   "mimetype": "text/x-python",
   "name": "python",
   "nbconvert_exporter": "python",
   "pygments_lexer": "ipython3",
   "version": "3.10.12"
  },
  "orig_nbformat": 4
 },
 "nbformat": 4,
 "nbformat_minor": 2
}
